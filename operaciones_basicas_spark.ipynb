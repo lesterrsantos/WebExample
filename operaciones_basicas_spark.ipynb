{
  "nbformat": 4,
  "nbformat_minor": 0,
  "metadata": {
    "colab": {
      "name": "operaciones basicas spark.ipynb",
      "provenance": [],
      "collapsed_sections": [],
      "include_colab_link": true
    },
    "kernelspec": {
      "name": "python3",
      "display_name": "Python 3"
    },
    "language_info": {
      "name": "python"
    }
  },
  "cells": [
    {
      "cell_type": "markdown",
      "metadata": {
        "id": "view-in-github",
        "colab_type": "text"
      },
      "source": [
        "<a href=\"https://colab.research.google.com/github/lesterrsantos/WebExample/blob/main/operaciones_basicas_spark.ipynb\" target=\"_parent\"><img src=\"https://colab.research.google.com/assets/colab-badge.svg\" alt=\"Open In Colab\"/></a>"
      ]
    },
    {
      "cell_type": "code",
      "metadata": {
        "id": "9lHkXcpaeuoW",
        "colab": {
          "base_uri": "https://localhost:8080/"
        },
        "outputId": "e438bcad-2731-4ce2-d68a-85978769e1b8"
      },
      "source": [
        "pip install pyspark==3.2.0"
      ],
      "execution_count": 4,
      "outputs": [
        {
          "output_type": "stream",
          "name": "stdout",
          "text": [
            "Collecting pyspark==3.2.0\n",
            "  Downloading pyspark-3.2.0.tar.gz (281.3 MB)\n",
            "\u001b[K     |████████████████████████████████| 281.3 MB 34 kB/s \n",
            "\u001b[?25hCollecting py4j==0.10.9.2\n",
            "  Downloading py4j-0.10.9.2-py2.py3-none-any.whl (198 kB)\n",
            "\u001b[K     |████████████████████████████████| 198 kB 14.2 MB/s \n",
            "\u001b[?25hBuilding wheels for collected packages: pyspark\n",
            "  Building wheel for pyspark (setup.py) ... \u001b[?25l\u001b[?25hdone\n",
            "  Created wheel for pyspark: filename=pyspark-3.2.0-py2.py3-none-any.whl size=281805912 sha256=8d6a81b2d74d7bc34477684a7bb0a689796209d6093b5cf9afc7be0683addfcb\n",
            "  Stored in directory: /root/.cache/pip/wheels/0b/de/d2/9be5d59d7331c6c2a7c1b6d1a4f463ce107332b1ecd4e80718\n",
            "Successfully built pyspark\n",
            "Installing collected packages: py4j, pyspark\n",
            "Successfully installed py4j-0.10.9.2 pyspark-3.2.0\n"
          ]
        }
      ]
    },
    {
      "cell_type": "code",
      "metadata": {
        "id": "-V6lt0q4fT5J"
      },
      "source": [
        "import pyspark\n",
        "from pyspark.sql import SparkSession, SQLContext\n",
        "sc = SparkSession.builder.appName(\"OperacionesDatos\").getOrCreate()"
      ],
      "execution_count": 5,
      "outputs": []
    },
    {
      "cell_type": "code",
      "metadata": {
        "colab": {
          "base_uri": "https://localhost:8080/"
        },
        "id": "XCegV1eUeiR2",
        "outputId": "8b73214b-08a1-484a-8a5d-b7049ba2416b"
      },
      "source": [
        "rdd=sc.sparkContext.parallelize([1,2,3,4,5,6,7,8,9])\n",
        "print(rdd.sum())\n",
        "print(rdd.count())"
      ],
      "execution_count": 6,
      "outputs": [
        {
          "output_type": "stream",
          "name": "stdout",
          "text": [
            "45\n",
            "9\n"
          ]
        }
      ]
    },
    {
      "cell_type": "code",
      "metadata": {
        "colab": {
          "base_uri": "https://localhost:8080/"
        },
        "id": "hmvyR7_5gEFw",
        "outputId": "5a36cf36-6819-4377-df1e-0366b7d7c0ec"
      },
      "source": [
        "data=[('juan','Raul','Gonzalez','1979-04-29','M','B'),\n",
        "      ('Carlos','','Perez','1973-02-02','M','M'),\n",
        "      ('Berta','','Moreira','1985-04-21','F','B'),\n",
        "      ('Julia','Elena','Martinez','1991-03-17','F','N'),\n",
        "]\n",
        "col=['Firstname', 'Middlename', 'Lastname', 'Day','Sex','Color']\n",
        "df2=sc.createDataFrame(data=data, schema=col)\n",
        "df2.show(4)"
      ],
      "execution_count": null,
      "outputs": [
        {
          "output_type": "stream",
          "name": "stdout",
          "text": [
            "+---------+----------+--------+----------+---+-----+\n",
            "|Firstname|Middlename|Lastname|       Day|Sex|Color|\n",
            "+---------+----------+--------+----------+---+-----+\n",
            "|     juan|      Raul|Gonzalez|1979-04-29|  M|    B|\n",
            "|   Carlos|          |   Perez|1973-02-02|  M|    M|\n",
            "|    Berta|          | Moreira|1985-04-21|  F|    B|\n",
            "|    Julia|     Elena|Martinez|1991-03-17|  F|    N|\n",
            "+---------+----------+--------+----------+---+-----+\n",
            "\n"
          ]
        }
      ]
    },
    {
      "cell_type": "code",
      "metadata": {
        "id": "Py-ANBo9j-Fw"
      },
      "source": [
        "from pyspark.sql import functions as f\n",
        "\n",
        "movies = sc.read.load(\"drive/MyDrive/imdb/ml-latest-small/movies.csv\", format='csv',header=True,schema=\"movieId INT, title STRING, genres STRING\",)\n",
        "ratings = (sc.read.load(\"drive/MyDrive/imdb/ml-latest-small/ratings.csv\", format='csv', header = True, schema=\"userId INT, movieId INT, rating DOUBLE, timestamp INT\",\n",
        "                       ).withColumnRenamed(\"timestamp\", \"timestamp_unix\").withColumn(\"timestamp\", f.to_timestamp(f.from_unixtime(\"timestamp_unix\"))))\n",
        "#links = sc.read.load(\"ml-latest-small/links.csv\", format='csv', header = True)\n",
        "#tags = sc.read.load(\"ml-latest-small/tags.csv\", format='csv', header = True)\n"
      ],
      "execution_count": null,
      "outputs": []
    },
    {
      "cell_type": "markdown",
      "metadata": {
        "id": "rkpqn6nUmlwv"
      },
      "source": [
        ""
      ]
    },
    {
      "cell_type": "markdown",
      "metadata": {
        "id": "9gy2F3lhmANf"
      },
      "source": [
        ""
      ]
    },
    {
      "cell_type": "code",
      "metadata": {
        "id": "L_4bFMO6fcL5",
        "colab": {
          "base_uri": "https://localhost:8080/"
        },
        "outputId": "8c26286e-41a2-4d6d-8d61-ec077c47ca0c"
      },
      "source": [
        "movies.printSchema()\n",
        "ratings.printSchema()\n",
        "ratings.show(5)"
      ],
      "execution_count": null,
      "outputs": [
        {
          "output_type": "stream",
          "name": "stdout",
          "text": [
            "root\n",
            " |-- movieId: integer (nullable = true)\n",
            " |-- title: string (nullable = true)\n",
            " |-- genres: string (nullable = true)\n",
            "\n",
            "root\n",
            " |-- userId: integer (nullable = true)\n",
            " |-- movieId: integer (nullable = true)\n",
            " |-- rating: double (nullable = true)\n",
            " |-- timestamp_unix: integer (nullable = true)\n",
            " |-- timestamp: timestamp (nullable = true)\n",
            "\n",
            "+------+-------+------+--------------+-------------------+\n",
            "|userId|movieId|rating|timestamp_unix|          timestamp|\n",
            "+------+-------+------+--------------+-------------------+\n",
            "|     1|     31|   2.5|    1260759144|2009-12-14 02:52:24|\n",
            "|     1|   1029|   3.0|    1260759179|2009-12-14 02:52:59|\n",
            "|     1|   1061|   3.0|    1260759182|2009-12-14 02:53:02|\n",
            "|     1|   1129|   2.0|    1260759185|2009-12-14 02:53:05|\n",
            "|     1|   1172|   4.0|    1260759205|2009-12-14 02:53:25|\n",
            "+------+-------+------+--------------+-------------------+\n",
            "only showing top 5 rows\n",
            "\n"
          ]
        }
      ]
    },
    {
      "cell_type": "code",
      "metadata": {
        "colab": {
          "base_uri": "https://localhost:8080/"
        },
        "id": "VOYS5zyry8Z0",
        "outputId": "77f298be-ff0e-411b-d51c-a1dce60e39f2"
      },
      "source": [
        "ratings.drop(\"timestamp_unix\", \"foobar\").show(5)"
      ],
      "execution_count": null,
      "outputs": [
        {
          "output_type": "stream",
          "name": "stdout",
          "text": [
            "+------+-------+------+-------------------+\n",
            "|userId|movieId|rating|          timestamp|\n",
            "+------+-------+------+-------------------+\n",
            "|     1|     31|   2.5|2009-12-14 02:52:24|\n",
            "|     1|   1029|   3.0|2009-12-14 02:52:59|\n",
            "|     1|   1061|   3.0|2009-12-14 02:53:02|\n",
            "|     1|   1129|   2.0|2009-12-14 02:53:05|\n",
            "|     1|   1172|   4.0|2009-12-14 02:53:25|\n",
            "+------+-------+------+-------------------+\n",
            "only showing top 5 rows\n",
            "\n"
          ]
        }
      ]
    },
    {
      "cell_type": "code",
      "metadata": {
        "colab": {
          "base_uri": "https://localhost:8080/"
        },
        "id": "suLj9Qc6BDFq",
        "outputId": "05a8b4eb-a83c-4577-cb19-020a6f98d4e9"
      },
      "source": [
        "movies.where(\"genres == 'Action'\").show(5)\n"
      ],
      "execution_count": null,
      "outputs": [
        {
          "output_type": "stream",
          "name": "stdout",
          "text": [
            "+-------+--------------------+------+\n",
            "|movieId|               title|genres|\n",
            "+-------+--------------------+------+\n",
            "|      9| Sudden Death (1995)|Action|\n",
            "|     71|    Fair Game (1995)|Action|\n",
            "|    204|Under Siege 2: Da...|Action|\n",
            "|    251|  Hunted, The (1995)|Action|\n",
            "|    667|Bloodsport 2 (a.k...|Action|\n",
            "+-------+--------------------+------+\n",
            "only showing top 5 rows\n",
            "\n"
          ]
        }
      ]
    },
    {
      "cell_type": "code",
      "metadata": {
        "colab": {
          "base_uri": "https://localhost:8080/"
        },
        "id": "OWvoYowVmEJ-",
        "outputId": "2d7a35aa-cdf3-42c1-b24c-1b7a8cbfa4a8"
      },
      "source": [
        "movies.show(4)"
      ],
      "execution_count": null,
      "outputs": [
        {
          "output_type": "stream",
          "name": "stdout",
          "text": [
            "+-------+--------------------+--------------------+\n",
            "|movieId|               title|              genres|\n",
            "+-------+--------------------+--------------------+\n",
            "|      1|    Toy Story (1995)|Adventure|Animati...|\n",
            "|      2|      Jumanji (1995)|Adventure|Childre...|\n",
            "|      3|Grumpier Old Men ...|      Comedy|Romance|\n",
            "|      4|Waiting to Exhale...|Comedy|Drama|Romance|\n",
            "+-------+--------------------+--------------------+\n",
            "only showing top 4 rows\n",
            "\n"
          ]
        }
      ]
    },
    {
      "cell_type": "code",
      "metadata": {
        "colab": {
          "base_uri": "https://localhost:8080/"
        },
        "id": "S8nyMCAlBYZi",
        "outputId": "af619d23-3160-4add-b82e-75540b982141"
      },
      "source": [
        "movie_genre = (\n",
        "    movies\n",
        "    .withColumn(\"genres_array\", f.split(\"genres\", \"\\|\"))\n",
        "    .withColumn(\"genre\", f.explode(\"genres_array\"))\n",
        "    .select(\"movieId\", \"title\",\"genres\", \"genre\")\n",
        ")\n",
        "movies.show(10)\n",
        "movie_genre.show(20)"
      ],
      "execution_count": null,
      "outputs": [
        {
          "output_type": "stream",
          "name": "stdout",
          "text": [
            "+-------+--------------------+--------------------+\n",
            "|movieId|               title|              genres|\n",
            "+-------+--------------------+--------------------+\n",
            "|      1|    Toy Story (1995)|Adventure|Animati...|\n",
            "|      2|      Jumanji (1995)|Adventure|Childre...|\n",
            "|      3|Grumpier Old Men ...|      Comedy|Romance|\n",
            "|      4|Waiting to Exhale...|Comedy|Drama|Romance|\n",
            "|      5|Father of the Bri...|              Comedy|\n",
            "|      6|         Heat (1995)|Action|Crime|Thri...|\n",
            "|      7|      Sabrina (1995)|      Comedy|Romance|\n",
            "|      8| Tom and Huck (1995)|  Adventure|Children|\n",
            "|      9| Sudden Death (1995)|              Action|\n",
            "|     10|    GoldenEye (1995)|Action|Adventure|...|\n",
            "+-------+--------------------+--------------------+\n",
            "only showing top 10 rows\n",
            "\n",
            "+-------+--------------------+--------------------+---------+\n",
            "|movieId|               title|              genres|    genre|\n",
            "+-------+--------------------+--------------------+---------+\n",
            "|      1|    Toy Story (1995)|Adventure|Animati...|Adventure|\n",
            "|      1|    Toy Story (1995)|Adventure|Animati...|Animation|\n",
            "|      1|    Toy Story (1995)|Adventure|Animati...| Children|\n",
            "|      1|    Toy Story (1995)|Adventure|Animati...|   Comedy|\n",
            "|      1|    Toy Story (1995)|Adventure|Animati...|  Fantasy|\n",
            "|      2|      Jumanji (1995)|Adventure|Childre...|Adventure|\n",
            "|      2|      Jumanji (1995)|Adventure|Childre...| Children|\n",
            "|      2|      Jumanji (1995)|Adventure|Childre...|  Fantasy|\n",
            "|      3|Grumpier Old Men ...|      Comedy|Romance|   Comedy|\n",
            "|      3|Grumpier Old Men ...|      Comedy|Romance|  Romance|\n",
            "|      4|Waiting to Exhale...|Comedy|Drama|Romance|   Comedy|\n",
            "|      4|Waiting to Exhale...|Comedy|Drama|Romance|    Drama|\n",
            "|      4|Waiting to Exhale...|Comedy|Drama|Romance|  Romance|\n",
            "|      5|Father of the Bri...|              Comedy|   Comedy|\n",
            "|      6|         Heat (1995)|Action|Crime|Thri...|   Action|\n",
            "|      6|         Heat (1995)|Action|Crime|Thri...|    Crime|\n",
            "|      6|         Heat (1995)|Action|Crime|Thri...| Thriller|\n",
            "|      7|      Sabrina (1995)|      Comedy|Romance|   Comedy|\n",
            "|      7|      Sabrina (1995)|      Comedy|Romance|  Romance|\n",
            "|      8| Tom and Huck (1995)|  Adventure|Children|Adventure|\n",
            "+-------+--------------------+--------------------+---------+\n",
            "only showing top 20 rows\n",
            "\n"
          ]
        }
      ]
    },
    {
      "cell_type": "code",
      "metadata": {
        "colab": {
          "base_uri": "https://localhost:8080/"
        },
        "id": "os-6LO5RCLZq",
        "outputId": "35ed41e4-bf1d-421c-d8b3-64ecc8bb260a"
      },
      "source": [
        "dd=movie_genre.select(\"genre\").distinct()\n",
        "dd.show()\n",
        "print(dd.count())\n",
        "movies_without_genre = movies.where(\"genres == '(no genres listed)'\")\n",
        "movies_without_genre.show()\n",
        "print(movies_without_genre.count())\n"
      ],
      "execution_count": null,
      "outputs": [
        {
          "output_type": "stream",
          "name": "stdout",
          "text": [
            "+------------------+\n",
            "|             genre|\n",
            "+------------------+\n",
            "|             Crime|\n",
            "|           Romance|\n",
            "|          Thriller|\n",
            "|         Adventure|\n",
            "|             Drama|\n",
            "|               War|\n",
            "|       Documentary|\n",
            "|           Fantasy|\n",
            "|           Mystery|\n",
            "|           Musical|\n",
            "|         Animation|\n",
            "|         Film-Noir|\n",
            "|(no genres listed)|\n",
            "|              IMAX|\n",
            "|            Horror|\n",
            "|           Western|\n",
            "|            Comedy|\n",
            "|          Children|\n",
            "|            Action|\n",
            "|            Sci-Fi|\n",
            "+------------------+\n",
            "\n",
            "20\n",
            "+-------+--------------------+------------------+\n",
            "|movieId|               title|            genres|\n",
            "+-------+--------------------+------------------+\n",
            "|  83829|Scorpio Rising (1...|(no genres listed)|\n",
            "| 117192|Doctor Who: The T...|(no genres listed)|\n",
            "| 122888|      Ben-hur (2016)|(no genres listed)|\n",
            "| 126106|Beastie Boys: Sab...|(no genres listed)|\n",
            "| 128616|As We Were Dreami...|(no genres listed)|\n",
            "| 128620|     Victoria (2015)|(no genres listed)|\n",
            "| 129250|   Superfast! (2015)|(no genres listed)|\n",
            "| 132549|      Grandma (2015)|(no genres listed)|\n",
            "| 132952|    Sarfarosh (1999)|(no genres listed)|\n",
            "| 134025|  Open Secret (2013)|(no genres listed)|\n",
            "| 136592|Freaky Friday (1995)|(no genres listed)|\n",
            "| 140753|The Men Next Door...|(no genres listed)|\n",
            "| 140763|    Boy Crazy (2009)|(no genres listed)|\n",
            "| 141866|   Green Room (2015)|(no genres listed)|\n",
            "| 143410|          Hyena Road|(no genres listed)|\n",
            "| 149532|Marco Polo: One H...|(no genres listed)|\n",
            "| 151307|The Lovers and th...|(no genres listed)|\n",
            "| 160590|Survive and Advan...|(no genres listed)|\n",
            "+-------+--------------------+------------------+\n",
            "\n",
            "18\n"
          ]
        }
      ]
    },
    {
      "cell_type": "code",
      "metadata": {
        "colab": {
          "base_uri": "https://localhost:8080/"
        },
        "id": "ZM9QcjBsCxZK",
        "outputId": "2cc9e863-ebaf-4227-ac98-3ae2607cce62"
      },
      "source": [
        "movie_genre.groupBy(\"genre\").count().show()"
      ],
      "execution_count": null,
      "outputs": [
        {
          "output_type": "stream",
          "name": "stdout",
          "text": [
            "+------------------+-----+\n",
            "|             genre|count|\n",
            "+------------------+-----+\n",
            "|             Crime| 1100|\n",
            "|           Romance| 1545|\n",
            "|          Thriller| 1729|\n",
            "|         Adventure| 1117|\n",
            "|             Drama| 4365|\n",
            "|               War|  367|\n",
            "|       Documentary|  495|\n",
            "|           Fantasy|  654|\n",
            "|           Mystery|  543|\n",
            "|           Musical|  394|\n",
            "|         Animation|  447|\n",
            "|         Film-Noir|  133|\n",
            "|(no genres listed)|   18|\n",
            "|              IMAX|  153|\n",
            "|            Horror|  877|\n",
            "|           Western|  168|\n",
            "|            Comedy| 3315|\n",
            "|          Children|  583|\n",
            "|            Action| 1545|\n",
            "|            Sci-Fi|  792|\n",
            "+------------------+-----+\n",
            "\n"
          ]
        }
      ]
    },
    {
      "cell_type": "code",
      "metadata": {
        "id": "4lj-U8SxtbTl"
      },
      "source": [
        "sc.stop()"
      ],
      "execution_count": null,
      "outputs": []
    }
  ]
}